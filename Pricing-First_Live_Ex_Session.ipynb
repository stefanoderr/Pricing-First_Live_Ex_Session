{
 "cells": [
  {
   "cell_type": "code",
   "execution_count": 1,
   "id": "e3fc1f40",
   "metadata": {},
   "outputs": [],
   "source": [
    "import numpy as np\n",
    "import matplotlib.pyplot as plt"
   ]
  },
  {
   "cell_type": "code",
   "execution_count": 2,
   "id": "ea28a9b3",
   "metadata": {},
   "outputs": [],
   "source": [
    "class env:\n",
    "    def __init__(self, probs, prices):\n",
    "        self.prices = prices\n",
    "        self.probs = probs\n",
    "        \n",
    "    def round(self, arm_pulled):\n",
    "        conv = np.random.binomial(n=1, p=self.probs[arm_pulled])\n",
    "        reward = conv*self.prices[arm_pulled]\n",
    "        return reward"
   ]
  },
  {
   "cell_type": "code",
   "execution_count": 3,
   "id": "d36f261e",
   "metadata": {},
   "outputs": [],
   "source": [
    "class learner:\n",
    "    def __init__(self, n_arms):\n",
    "        self.t = 0\n",
    "        self.n_arms = n_arms\n",
    "        self.rewards = []\n",
    "        self.reward_per_arm = [[] for _ in range(n_arms)]\n",
    "        self.pulled = []\n",
    "        \n",
    "    def reset(self):\n",
    "        self.__init__(self.n_arms, self.prices, self.T)\n",
    "        \n",
    "    def act(self):\n",
    "        pass\n",
    "    \n",
    "    def update(self, arm_pulled, reward):\n",
    "        self.t += 1\n",
    "        self.rewards.append(reward)\n",
    "        self.reward_per_arm[arm_pulled].append(reward)\n",
    "        self.pulled.append(arm_pulled)"
   ]
  },
  {
   "cell_type": "code",
   "execution_count": 4,
   "id": "969aa724",
   "metadata": {},
   "outputs": [],
   "source": [
    "class ucb(learner):\n",
    "    def __init__(self, n_arms, prices, T):\n",
    "        super().__init__(n_arms)\n",
    "        self.T = T\n",
    "        self.means = np.zeros(n_arms)\n",
    "        self.widths = np.array([np.inf for _ in range(n_arms)])\n",
    "        self.prices = prices\n",
    "        \n",
    "    def act(self):\n",
    "        idx = np.argmax((self.means + self.widths)*self.prices)\n",
    "        return idx\n",
    "    \n",
    "    def update(self, arm_pulled, reward):\n",
    "        reward = reward > 0\n",
    "        super().update(arm_pulled, reward)\n",
    "        self.means[arm_pulled] = np.mean(self.reward_per_arm[arm_pulled])\n",
    "        for idx in range(self.n_arms):\n",
    "            n = len(self.reward_per_arm[idx])\n",
    "            if n > 0:\n",
    "                self.widths[idx] = np.sqrt(2*np.log(self.T)/n)\n",
    "            else:\n",
    "                self.widths[idx] = np.inf"
   ]
  },
  {
   "cell_type": "code",
   "execution_count": 5,
   "id": "8bcd4e29",
   "metadata": {},
   "outputs": [],
   "source": [
    "p = [0.5, 0.4, 0.3, 0.2]\n",
    "prices = [100, 200, 800, 850]\n",
    "\n",
    "pricing_env = env(p, prices)\n",
    "T = 5000\n",
    "alg = ucb(len(p), prices, T)\n",
    "opt = np.max([a*b for a, b in zip(p, prices)])\n",
    "N_exp = 25\n",
    "\n",
    "R = []\n",
    "for _ in range(N_exp):\n",
    "    instant_regret = []\n",
    "    alg.reset()\n",
    "    for t in range(T):\n",
    "        pulled_arm = alg.act()\n",
    "        rew = pricing_env.round(pulled_arm)\n",
    "        alg.update(pulled_arm, rew)\n",
    "        instant_regret.append(opt - rew)\n",
    "    cumulative_regret = np.cumsum(instant_regret)\n",
    "    R.append(cumulative_regret)\n",
    "mean_R = np.mean(R, axis=0)\n",
    "std_dev = np.std(R, axis=0)/np.sqrt(N_exp)"
   ]
  },
  {
   "cell_type": "code",
   "execution_count": 6,
   "id": "f7ef3c9b",
   "metadata": {},
   "outputs": [
    {
     "data": {
      "text/plain": [
       "<matplotlib.collections.PolyCollection at 0x2aad04e64c0>"
      ]
     },
     "execution_count": 6,
     "metadata": {},
     "output_type": "execute_result"
    },
    {
     "data": {
      "image/png": "[encoded data removed]",
      "text/plain": [
       "<Figure size 432x288 with 1 Axes>"
      ]
     },
     "metadata": {
      "needs_background": "light"
     },
     "output_type": "display_data"
    }
   ],
   "source": [
    "plt.plot(mean_R)\n",
    "plt.fill_between(range(T), mean_R-std_dev, mean_R+std_dev, alpha=0.4)"
   ]
  }
 ],
 "metadata": {
  "kernelspec": {
   "display_name": "Python 3 (ipykernel)",
   "language": "python",
   "name": "python3"
  },
  "language_info": {
   "codemirror_mode": {
    "name": "ipython",
    "version": 3
   },
   "file_extension": ".py",
   "mimetype": "text/x-python",
   "name": "python",
   "nbconvert_exporter": "python",
   "pygments_lexer": "ipython3",
   "version": "3.9.7"
  }
 },
 "nbformat": 4,
 "nbformat_minor": 5
}
