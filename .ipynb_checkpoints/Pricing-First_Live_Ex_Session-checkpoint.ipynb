{
 "cells": [
  {
   "cell_type": "code",
   "execution_count": 1,
   "id": "e3fc1f40",
   "metadata": {},
   "outputs": [],
   "source": [
    "import numpy as np\n",
    "import matplotlib.pyplot as plt"
   ]
  },
  {
   "cell_type": "code",
   "execution_count": 2,
   "id": "ea28a9b3",
   "metadata": {},
   "outputs": [],
   "source": [
    "class env:\n",
    "    def __init__(self, probs, prices):\n",
    "        self.prices = prices\n",
    "        self.probs = probs\n",
    "        \n",
    "    def round(self, arm_pulled):\n",
    "        conv = np.random.binomial(n=1, p=self.probs[arm_pulled])\n",
    "        reward = conv*self.prices[arm_pulled]\n",
    "        return reward"
   ]
  },
  {
   "cell_type": "code",
   "execution_count": 3,
   "id": "d36f261e",
   "metadata": {},
   "outputs": [],
   "source": [
    "class learner:\n",
    "    def __init__(self, n_arms):\n",
    "        self.t = 0\n",
    "        self.n_arms = n_arms\n",
    "        self.rewards = []\n",
    "        self.reward_per_arm = [[] for _ in range(n_arms)]\n",
    "        \n",
    "    def reset(self):\n",
    "        self.__init__(self.n_arms, self.prices)\n",
    "        \n",
    "    def act(self):\n",
    "        pass\n",
    "    \n",
    "    def update(self, arm_pulled, reward):\n",
    "        self.t += 1\n",
    "        self.rewards.append(reward)\n",
    "        self.reward_per_arm[arm_pulled].append(reward)"
   ]
  },
  {
   "cell_type": "code",
   "execution_count": 4,
   "id": "969aa724",
   "metadata": {},
   "outputs": [],
   "source": [
    "class ucb(learner):\n",
    "    def __init__(self, n_arms, prices):\n",
    "        super().__init__(n_arms)\n",
    "        self.means = np.zeros(n_arms)\n",
    "        self.widths = np.array([np.inf for _ in range(n_arms)])\n",
    "        self.prices = prices\n",
    "        \n",
    "    def act(self):\n",
    "        idx = np.argmax(self.means + self.widths)\n",
    "        return idx\n",
    "    \n",
    "    def update(self, arm_pulled, reward):\n",
    "        #here on we don't care about the price\n",
    "        super().update(arm_pulled, reward)\n",
    "        self.means[arm_pulled] = np.mean(self.reward_per_arm[arm_pulled])\n",
    "        for idx in range(self.n_arms):\n",
    "            n = len(self.reward_per_arm[idx])\n",
    "            if n > 0:\n",
    "                self.widths[idx] = np.sqrt(2*np.max(self.prices)*np.log(self.t)/n) #we have no more the conversion rate, that was between 0 and 1; so we have to multiply by the square root of the width of the support; this comes from the Hoeffding's bound\n",
    "            else:\n",
    "                self.widths[idx] = np.inf"
   ]
  },
  {
   "cell_type": "code",
   "execution_count": 5,
   "id": "8bcd4e29",
   "metadata": {},
   "outputs": [],
   "source": [
    "p = [0.5, 0.1, 0.2, 0.9]\n",
    "prices = [100, 400, 300, 70]\n",
    "\n",
    "pricing_env = env(p, prices)\n",
    "alg = ucb(len(p), prices)\n",
    "T = 1000\n",
    "opt = np.max([a*b for a, b in zip(p, prices)])\n",
    "N_exp = 30\n",
    "\n",
    "R = []\n",
    "for _ in range(N_exp):\n",
    "    instant_regret = []\n",
    "    alg.reset()\n",
    "    for t in range(T):\n",
    "        pulled_arm = alg.act()\n",
    "        rew = pricing_env.round(pulled_arm)\n",
    "        alg.update(pulled_arm, rew)\n",
    "        instant_regret.append(opt - rew)\n",
    "    cumulative_regret = np.cumsum(instant_regret)\n",
    "    R.append(cumulative_regret)\n",
    "mean_R = np.mean(R, axis=0)\n",
    "std_dev = np.std(R, axis=0)/np.sqrt(N_exp)"
   ]
  },
  {
   "cell_type": "code",
   "execution_count": 6,
   "id": "f7ef3c9b",
   "metadata": {},
   "outputs": [
    {
     "data": {
      "text/plain": [
       "<matplotlib.collections.PolyCollection at 0x186b08e0430>"
      ]
     },
     "execution_count": 6,
     "metadata": {},
     "output_type": "execute_result"
    },
    {
     "data": {
      "image/png": "[encoded data removed]",
      "text/plain": [
       "<Figure size 432x288 with 1 Axes>"
      ]
     },
     "metadata": {
      "needs_background": "light"
     },
     "output_type": "display_data"
    }
   ],
   "source": [
    "plt.plot(mean_R)\n",
    "plt.fill_between(range(T), mean_R-std_dev, mean_R+std_dev, alpha=0.4)"
   ]
  }
 ],
 "metadata": {
  "kernelspec": {
   "display_name": "Python 3 (ipykernel)",
   "language": "python",
   "name": "python3"
  },
  "language_info": {
   "codemirror_mode": {
    "name": "ipython",
    "version": 3
   },
   "file_extension": ".py",
   "mimetype": "text/x-python",
   "name": "python",
   "nbconvert_exporter": "python",
   "pygments_lexer": "ipython3",
   "version": "3.9.7"
  }
 },
 "nbformat": 4,
 "nbformat_minor": 5
}
